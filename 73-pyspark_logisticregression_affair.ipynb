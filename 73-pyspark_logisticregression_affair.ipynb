{
 "cells": [
  {
   "cell_type": "code",
   "execution_count": 20,
   "id": "785da011",
   "metadata": {},
   "outputs": [
    {
     "data": {
      "text/html": [
       "\n",
       "            <div>\n",
       "                <p><b>SparkSession - in-memory</b></p>\n",
       "                \n",
       "        <div>\n",
       "            <p><b>SparkContext</b></p>\n",
       "\n",
       "            <p><a href=\"http://HAMZAEFE:4040\">Spark UI</a></p>\n",
       "\n",
       "            <dl>\n",
       "              <dt>Version</dt>\n",
       "                <dd><code>v3.5.1</code></dd>\n",
       "              <dt>Master</dt>\n",
       "                <dd><code>local[*]</code></dd>\n",
       "              <dt>AppName</dt>\n",
       "                <dd><code>affair_app</code></dd>\n",
       "            </dl>\n",
       "        </div>\n",
       "        \n",
       "            </div>\n",
       "        "
      ],
      "text/plain": [
       "<pyspark.sql.session.SparkSession at 0x1c1b8c54b10>"
      ]
     },
     "execution_count": 20,
     "metadata": {},
     "output_type": "execute_result"
    }
   ],
   "source": [
    "import pyspark\n",
    "from pyspark.sql import SparkSession\n",
    "spark = SparkSession.builder.appName(\"affair_app\").getOrCreate()\n",
    "\n",
    "spark"
   ]
  },
  {
   "cell_type": "code",
   "execution_count": 21,
   "id": "17a0109e",
   "metadata": {},
   "outputs": [
    {
     "name": "stdout",
     "output_type": "stream",
     "text": [
      "+-------------+----+-----------+--------+---------+-------+\n",
      "|rate_marriage|age |yrs_married|children|religious|affairs|\n",
      "+-------------+----+-----------+--------+---------+-------+\n",
      "|5            |32.0|6.0        |1.0     |3        |0      |\n",
      "|4            |22.0|2.5        |0.0     |2        |0      |\n",
      "|3            |32.0|9.0        |3.0     |3        |1      |\n",
      "|3            |27.0|13.0       |3.0     |1        |1      |\n",
      "|4            |22.0|2.5        |0.0     |1        |1      |\n",
      "+-------------+----+-----------+--------+---------+-------+\n",
      "only showing top 5 rows\n",
      "\n"
     ]
    }
   ],
   "source": [
    "df = spark.read.csv(\"affairs.csv\", header = True, inferSchema = True)\n",
    "df.show(5, False)"
   ]
  },
  {
   "cell_type": "code",
   "execution_count": 22,
   "id": "49433678",
   "metadata": {},
   "outputs": [
    {
     "name": "stdout",
     "output_type": "stream",
     "text": [
      "+-------------+----+-----------+--------+---------+-------+-------------------+\n",
      "|rate_marriage| age|yrs_married|children|religious|affairs|yrs_before_marriage|\n",
      "+-------------+----+-----------+--------+---------+-------+-------------------+\n",
      "|            5|32.0|        6.0|     1.0|        3|      0|               26.0|\n",
      "|            4|22.0|        2.5|     0.0|        2|      0|               19.5|\n",
      "|            3|32.0|        9.0|     3.0|        3|      1|               23.0|\n",
      "|            3|27.0|       13.0|     3.0|        1|      1|               14.0|\n",
      "|            4|22.0|        2.5|     0.0|        1|      1|               19.5|\n",
      "|            4|37.0|       16.5|     4.0|        3|      1|               20.5|\n",
      "|            5|27.0|        9.0|     1.0|        1|      1|               18.0|\n",
      "|            4|27.0|        9.0|     0.0|        2|      1|               18.0|\n",
      "|            5|37.0|       23.0|     5.5|        2|      1|               14.0|\n",
      "|            5|37.0|       23.0|     5.5|        2|      1|               14.0|\n",
      "|            3|22.0|        2.5|     0.0|        2|      1|               19.5|\n",
      "|            3|27.0|        6.0|     0.0|        1|      1|               21.0|\n",
      "|            2|27.0|        6.0|     2.0|        1|      1|               21.0|\n",
      "|            5|27.0|        6.0|     2.0|        3|      1|               21.0|\n",
      "|            3|37.0|       16.5|     5.5|        1|      1|               20.5|\n",
      "|            5|27.0|        6.0|     0.0|        2|      1|               21.0|\n",
      "|            4|22.0|        6.0|     1.0|        1|      1|               16.0|\n",
      "|            4|37.0|        9.0|     2.0|        2|      1|               28.0|\n",
      "|            4|27.0|        6.0|     1.0|        1|      1|               21.0|\n",
      "|            1|37.0|       23.0|     5.5|        4|      1|               14.0|\n",
      "+-------------+----+-----------+--------+---------+-------+-------------------+\n",
      "only showing top 20 rows\n",
      "\n"
     ]
    }
   ],
   "source": [
    "from pyspark.sql.functions import col\n",
    "\n",
    "df = df.withColumn(\"yrs_before_marriage\", col(\"age\") - col(\"yrs_married\"))\n",
    "\n",
    "df.show()"
   ]
  },
  {
   "cell_type": "code",
   "execution_count": 23,
   "id": "6bfd39b8",
   "metadata": {},
   "outputs": [],
   "source": [
    "from pyspark.ml.linalg import Vector\n",
    "from pyspark.ml.feature import VectorAssembler\n",
    "\n",
    "features = df.drop(\"affairs\")\n",
    "\n",
    "#features.columns"
   ]
  },
  {
   "cell_type": "code",
   "execution_count": 24,
   "id": "1a601548",
   "metadata": {},
   "outputs": [
    {
     "name": "stdout",
     "output_type": "stream",
     "text": [
      "+-------------+----+-----------+--------+---------+-------+-------------------+----------------------------+\n",
      "|rate_marriage|age |yrs_married|children|religious|affairs|yrs_before_marriage|features                    |\n",
      "+-------------+----+-----------+--------+---------+-------+-------------------+----------------------------+\n",
      "|5            |32.0|6.0        |1.0     |3        |0      |26.0               |[5.0,32.0,6.0,1.0,3.0,26.0] |\n",
      "|4            |22.0|2.5        |0.0     |2        |0      |19.5               |[4.0,22.0,2.5,0.0,2.0,19.5] |\n",
      "|3            |32.0|9.0        |3.0     |3        |1      |23.0               |[3.0,32.0,9.0,3.0,3.0,23.0] |\n",
      "|3            |27.0|13.0       |3.0     |1        |1      |14.0               |[3.0,27.0,13.0,3.0,1.0,14.0]|\n",
      "|4            |22.0|2.5        |0.0     |1        |1      |19.5               |[4.0,22.0,2.5,0.0,1.0,19.5] |\n",
      "+-------------+----+-----------+--------+---------+-------+-------------------+----------------------------+\n",
      "only showing top 5 rows\n",
      "\n"
     ]
    }
   ],
   "source": [
    "vector_assembler = VectorAssembler(inputCols = features.columns, outputCol = \"features\")\n",
    "\n",
    "features_df = vector_assembler.transform(df)\n",
    "features_df.show(5, False)"
   ]
  },
  {
   "cell_type": "code",
   "execution_count": 27,
   "id": "5100de9a",
   "metadata": {},
   "outputs": [
    {
     "data": {
      "text/plain": [
       "-0.12916120274747694"
      ]
     },
     "execution_count": 27,
     "metadata": {},
     "output_type": "execute_result"
    }
   ],
   "source": [
    "correlation_matrix = df.stat.corr(\"rate_marriage\", \"children\")\n",
    "\n",
    "correlation_matrix"
   ]
  },
  {
   "cell_type": "code",
   "execution_count": 29,
   "id": "d6db1be1",
   "metadata": {},
   "outputs": [
    {
     "data": {
      "text/html": [
       "<div>\n",
       "<style scoped>\n",
       "    .dataframe tbody tr th:only-of-type {\n",
       "        vertical-align: middle;\n",
       "    }\n",
       "\n",
       "    .dataframe tbody tr th {\n",
       "        vertical-align: top;\n",
       "    }\n",
       "\n",
       "    .dataframe thead th {\n",
       "        text-align: right;\n",
       "    }\n",
       "</style>\n",
       "<table border=\"1\" class=\"dataframe\">\n",
       "  <thead>\n",
       "    <tr style=\"text-align: right;\">\n",
       "      <th></th>\n",
       "      <th>rate_marriage</th>\n",
       "      <th>age</th>\n",
       "      <th>yrs_married</th>\n",
       "      <th>children</th>\n",
       "      <th>religious</th>\n",
       "      <th>affairs</th>\n",
       "      <th>yrs_before_marriage</th>\n",
       "    </tr>\n",
       "  </thead>\n",
       "  <tbody>\n",
       "    <tr>\n",
       "      <th>rate_marriage</th>\n",
       "      <td>1.000000</td>\n",
       "      <td>-0.111127</td>\n",
       "      <td>-0.128978</td>\n",
       "      <td>-0.129161</td>\n",
       "      <td>0.078794</td>\n",
       "      <td>-0.331776</td>\n",
       "      <td>0.054294</td>\n",
       "    </tr>\n",
       "    <tr>\n",
       "      <th>age</th>\n",
       "      <td>-0.111127</td>\n",
       "      <td>1.000000</td>\n",
       "      <td>0.894082</td>\n",
       "      <td>0.673902</td>\n",
       "      <td>0.136598</td>\n",
       "      <td>0.146519</td>\n",
       "      <td>0.103363</td>\n",
       "    </tr>\n",
       "    <tr>\n",
       "      <th>yrs_married</th>\n",
       "      <td>-0.128978</td>\n",
       "      <td>0.894082</td>\n",
       "      <td>1.000000</td>\n",
       "      <td>0.772806</td>\n",
       "      <td>0.132683</td>\n",
       "      <td>0.203109</td>\n",
       "      <td>-0.353090</td>\n",
       "    </tr>\n",
       "    <tr>\n",
       "      <th>children</th>\n",
       "      <td>-0.129161</td>\n",
       "      <td>0.673902</td>\n",
       "      <td>0.772806</td>\n",
       "      <td>1.000000</td>\n",
       "      <td>0.141845</td>\n",
       "      <td>0.159833</td>\n",
       "      <td>-0.308483</td>\n",
       "    </tr>\n",
       "    <tr>\n",
       "      <th>religious</th>\n",
       "      <td>0.078794</td>\n",
       "      <td>0.136598</td>\n",
       "      <td>0.132683</td>\n",
       "      <td>0.141845</td>\n",
       "      <td>1.000000</td>\n",
       "      <td>-0.129299</td>\n",
       "      <td>-0.009315</td>\n",
       "    </tr>\n",
       "    <tr>\n",
       "      <th>affairs</th>\n",
       "      <td>-0.331776</td>\n",
       "      <td>0.146519</td>\n",
       "      <td>0.203109</td>\n",
       "      <td>0.159833</td>\n",
       "      <td>-0.129299</td>\n",
       "      <td>1.000000</td>\n",
       "      <td>-0.144986</td>\n",
       "    </tr>\n",
       "    <tr>\n",
       "      <th>yrs_before_marriage</th>\n",
       "      <td>0.054294</td>\n",
       "      <td>0.103363</td>\n",
       "      <td>-0.353090</td>\n",
       "      <td>-0.308483</td>\n",
       "      <td>-0.009315</td>\n",
       "      <td>-0.144986</td>\n",
       "      <td>1.000000</td>\n",
       "    </tr>\n",
       "  </tbody>\n",
       "</table>\n",
       "</div>"
      ],
      "text/plain": [
       "                     rate_marriage       age  yrs_married  children  \\\n",
       "rate_marriage             1.000000 -0.111127    -0.128978 -0.129161   \n",
       "age                      -0.111127  1.000000     0.894082  0.673902   \n",
       "yrs_married              -0.128978  0.894082     1.000000  0.772806   \n",
       "children                 -0.129161  0.673902     0.772806  1.000000   \n",
       "religious                 0.078794  0.136598     0.132683  0.141845   \n",
       "affairs                  -0.331776  0.146519     0.203109  0.159833   \n",
       "yrs_before_marriage       0.054294  0.103363    -0.353090 -0.308483   \n",
       "\n",
       "                     religious   affairs  yrs_before_marriage  \n",
       "rate_marriage         0.078794 -0.331776             0.054294  \n",
       "age                   0.136598  0.146519             0.103363  \n",
       "yrs_married           0.132683  0.203109            -0.353090  \n",
       "children              0.141845  0.159833            -0.308483  \n",
       "religious             1.000000 -0.129299            -0.009315  \n",
       "affairs              -0.129299  1.000000            -0.144986  \n",
       "yrs_before_marriage  -0.009315 -0.144986             1.000000  "
      ]
     },
     "execution_count": 29,
     "metadata": {},
     "output_type": "execute_result"
    }
   ],
   "source": [
    "correlation_table = df.toPandas().corr()\n",
    "correlation_table"
   ]
  },
  {
   "cell_type": "code",
   "execution_count": 15,
   "id": "a01cdab6",
   "metadata": {},
   "outputs": [
    {
     "name": "stdout",
     "output_type": "stream",
     "text": [
      "root\n",
      " |-- rate_marriage: integer (nullable = true)\n",
      " |-- age: double (nullable = true)\n",
      " |-- yrs_married: double (nullable = true)\n",
      " |-- children: double (nullable = true)\n",
      " |-- religious: integer (nullable = true)\n",
      " |-- affairs: integer (nullable = true)\n",
      " |-- yrs_before_marriage: double (nullable = true)\n",
      " |-- features: vector (nullable = true)\n",
      "\n"
     ]
    }
   ],
   "source": [
    "features_df.printSchema()"
   ]
  },
  {
   "cell_type": "code",
   "execution_count": 16,
   "id": "6e841c93",
   "metadata": {},
   "outputs": [
    {
     "name": "stdout",
     "output_type": "stream",
     "text": [
      "+----------------------------+-------+\n",
      "|features                    |affairs|\n",
      "+----------------------------+-------+\n",
      "|[5.0,32.0,6.0,1.0,3.0,26.0] |0      |\n",
      "|[4.0,22.0,2.5,0.0,2.0,19.5] |0      |\n",
      "|[3.0,32.0,9.0,3.0,3.0,23.0] |1      |\n",
      "|[3.0,27.0,13.0,3.0,1.0,14.0]|1      |\n",
      "|[4.0,22.0,2.5,0.0,1.0,19.5] |1      |\n",
      "+----------------------------+-------+\n",
      "only showing top 5 rows\n",
      "\n"
     ]
    }
   ],
   "source": [
    "model_df = features_df.select(\"features\", \"affairs\")\n",
    "model_df.show(5, False)"
   ]
  },
  {
   "cell_type": "code",
   "execution_count": 17,
   "id": "9c5556e0",
   "metadata": {},
   "outputs": [
    {
     "name": "stdout",
     "output_type": "stream",
     "text": [
      "+-------------+----+-----------+--------+---------+-------+-------------------+----------------------------+\n",
      "|rate_marriage|age |yrs_married|children|religious|affairs|yrs_before_marriage|features                    |\n",
      "+-------------+----+-----------+--------+---------+-------+-------------------+----------------------------+\n",
      "|5            |32.0|6.0        |1.0     |3        |0      |26.0               |[5.0,32.0,6.0,1.0,3.0,26.0] |\n",
      "|4            |22.0|2.5        |0.0     |2        |0      |19.5               |[4.0,22.0,2.5,0.0,2.0,19.5] |\n",
      "|3            |32.0|9.0        |3.0     |3        |1      |23.0               |[3.0,32.0,9.0,3.0,3.0,23.0] |\n",
      "|3            |27.0|13.0       |3.0     |1        |1      |14.0               |[3.0,27.0,13.0,3.0,1.0,14.0]|\n",
      "|4            |22.0|2.5        |0.0     |1        |1      |19.5               |[4.0,22.0,2.5,0.0,1.0,19.5] |\n",
      "+-------------+----+-----------+--------+---------+-------+-------------------+----------------------------+\n",
      "only showing top 5 rows\n",
      "\n",
      "AUC: 0.7436875418454144\n"
     ]
    }
   ],
   "source": [
    "from pyspark.sql import SparkSession\n",
    "from pyspark.ml.feature import VectorAssembler\n",
    "from pyspark.ml.classification import LogisticRegression\n",
    "from pyspark.ml.evaluation import BinaryClassificationEvaluator\n",
    "\n",
    "\n",
    "vector_assembler = VectorAssembler(inputCols = features.columns, outputCol = \"features\")\n",
    "\n",
    "features_df = vector_assembler.transform(df)\n",
    "features_df.show(5, False)\n",
    "\n",
    "# Veriyi eğitim ve test kümelerine bölün\n",
    "X_train, X_test = features_df.randomSplit([0.8, 0.2], seed=42)\n",
    "\n",
    "# Logistic Regression modelini oluşturma\n",
    "log_reg = LogisticRegression(featuresCol=\"features\", labelCol=\"affairs\")\n",
    "\n",
    "# Modeli eğitme\n",
    "log_model = log_reg.fit(X_train)\n",
    "\n",
    "# Test verileri üzerinde tahminleri alın\n",
    "predictions = log_model.transform(X_test)\n",
    "\n",
    "# Tahminleri değerlendirme\n",
    "evaluator = BinaryClassificationEvaluator(rawPredictionCol=\"rawPrediction\", labelCol=\"affairs\")\n",
    "auc = evaluator.evaluate(predictions)\n",
    "\n",
    "# AUC değerini yazdırma\n",
    "print(\"AUC:\", auc)\n",
    "\n",
    "# Spark oturumunu kapat\n",
    "spark.stop()"
   ]
  },
  {
   "cell_type": "code",
   "execution_count": null,
   "id": "e9d03d61",
   "metadata": {},
   "outputs": [],
   "source": []
  },
  {
   "cell_type": "code",
   "execution_count": null,
   "id": "95586cfa",
   "metadata": {},
   "outputs": [],
   "source": []
  },
  {
   "cell_type": "code",
   "execution_count": null,
   "id": "37cc5b98",
   "metadata": {},
   "outputs": [],
   "source": []
  }
 ],
 "metadata": {
  "kernelspec": {
   "display_name": "Python 3 (ipykernel)",
   "language": "python",
   "name": "python3"
  },
  "language_info": {
   "codemirror_mode": {
    "name": "ipython",
    "version": 3
   },
   "file_extension": ".py",
   "mimetype": "text/x-python",
   "name": "python",
   "nbconvert_exporter": "python",
   "pygments_lexer": "ipython3",
   "version": "3.11.5"
  }
 },
 "nbformat": 4,
 "nbformat_minor": 5
}
