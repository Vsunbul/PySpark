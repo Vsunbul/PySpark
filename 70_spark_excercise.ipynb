{
  "nbformat": 4,
  "nbformat_minor": 0,
  "metadata": {
    "colab": {
      "provenance": [],
      "authorship_tag": "ABX9TyPbcgERrKpXw7sFYbf4HFA1",
      "include_colab_link": true
    },
    "kernelspec": {
      "name": "python3",
      "display_name": "Python 3"
    },
    "language_info": {
      "name": "python"
    }
  },
  "cells": [
    {
      "cell_type": "markdown",
      "metadata": {
        "id": "view-in-github",
        "colab_type": "text"
      },
      "source": [
        "<a href=\"https://colab.research.google.com/github/Vsunbul/SparkProject/blob/main/70_spark_excercise.ipynb\" target=\"_parent\"><img src=\"https://colab.research.google.com/assets/colab-badge.svg\" alt=\"Open In Colab\"/></a>"
      ]
    },
    {
      "cell_type": "code",
      "execution_count": 2,
      "metadata": {
        "colab": {
          "base_uri": "https://localhost:8080/"
        },
        "id": "Z4RJBPwf_k8L",
        "outputId": "912fa152-cac2-4bd5-877d-40a003997993"
      },
      "outputs": [
        {
          "output_type": "stream",
          "name": "stdout",
          "text": [
            "Collecting pyspark\n",
            "  Downloading pyspark-3.5.1.tar.gz (317.0 MB)\n",
            "\u001b[2K     \u001b[90m━━━━━━━━━━━━━━━━━━━━━━━━━━━━━━━━━━━━━━━━\u001b[0m \u001b[32m317.0/317.0 MB\u001b[0m \u001b[31m2.2 MB/s\u001b[0m eta \u001b[36m0:00:00\u001b[0m\n",
            "\u001b[?25h  Preparing metadata (setup.py) ... \u001b[?25l\u001b[?25hdone\n",
            "Requirement already satisfied: py4j==0.10.9.7 in /usr/local/lib/python3.10/dist-packages (from pyspark) (0.10.9.7)\n",
            "Building wheels for collected packages: pyspark\n",
            "  Building wheel for pyspark (setup.py) ... \u001b[?25l\u001b[?25hdone\n",
            "  Created wheel for pyspark: filename=pyspark-3.5.1-py2.py3-none-any.whl size=317488491 sha256=ecae816c9c79fbf929eb5653864c8361e0925f6fbfaae8c794f2baf487f413e7\n",
            "  Stored in directory: /root/.cache/pip/wheels/80/1d/60/2c256ed38dddce2fdd93be545214a63e02fbd8d74fb0b7f3a6\n",
            "Successfully built pyspark\n",
            "Installing collected packages: pyspark\n",
            "Successfully installed pyspark-3.5.1\n"
          ]
        }
      ],
      "source": [
        "!pip install pyspark\n",
        "\n",
        "\n",
        "import pandas as pd\n",
        "\n",
        "import pyspark\n",
        "\n",
        "from pyspark.sql import SparkSession\n"
      ]
    },
    {
      "cell_type": "code",
      "source": [
        "\n",
        "#create Pandas Series\n",
        "names = pd.Series([\"Kevin Durant\", \"Derrick White\", \"Isiah Thomas\", \"Devin Booker\", \"Jason Tatum\"])\n",
        "age = pd.Series([33, 28, 38, 27, 29])\n",
        "total_purchase = pd.Series([30000, 50000, 1000, 30000, 100000])\n",
        "account_manager = pd.Series([1, 0, 0, 1, 1])\n",
        "years = pd.Series([20, 10, 3, 8, 20])\n",
        "num_sites = pd.Series([30, 8, 8, 6, 50])\n",
        "\n",
        "#create Pandas DataFrame\n",
        "new_customers = pd.DataFrame({\"names\": names,\n",
        "                             \"age\": age,\n",
        "                             \"total_purchase\": total_purchase,\n",
        "                             \"account_manager\": account_manager,\n",
        "                             \"years\": years,\n",
        "                             \"num_sites\": num_sites})\n",
        "\n",
        "# convert PySpark to DataFrame\n",
        "spark = SparkSession.builder \\\n",
        "    .appName(\"Pandas to Spark DataFrame\") \\\n",
        "    .getOrCreate()\n",
        "\n",
        "new_sdf = spark.createDataFrame(new_customers)\n",
        "type(new_sdf)\n",
        "\n",
        "# show Spark DataFrame\n",
        "new_sdf.show()"
      ],
      "metadata": {
        "colab": {
          "base_uri": "https://localhost:8080/"
        },
        "id": "x27F5B74ADUw",
        "outputId": "853301d7-16bf-404d-9192-3d467af36eba"
      },
      "execution_count": 3,
      "outputs": [
        {
          "output_type": "stream",
          "name": "stdout",
          "text": [
            "+-------------+---+--------------+---------------+-----+---------+\n",
            "|        names|age|total_purchase|account_manager|years|num_sites|\n",
            "+-------------+---+--------------+---------------+-----+---------+\n",
            "| Kevin Durant| 33|         30000|              1|   20|       30|\n",
            "|Derrick White| 28|         50000|              0|   10|        8|\n",
            "| Isiah Thomas| 38|          1000|              0|    3|        8|\n",
            "| Devin Booker| 27|         30000|              1|    8|        6|\n",
            "|  Jason Tatum| 29|        100000|              1|   20|       50|\n",
            "+-------------+---+--------------+---------------+-----+---------+\n",
            "\n"
          ]
        }
      ]
    },
    {
      "cell_type": "code",
      "source": [],
      "metadata": {
        "id": "Vg0hy1AjAMX4"
      },
      "execution_count": null,
      "outputs": []
    },
    {
      "cell_type": "code",
      "source": [],
      "metadata": {
        "id": "X9zadGv7HoNp"
      },
      "execution_count": null,
      "outputs": []
    }
  ]
}